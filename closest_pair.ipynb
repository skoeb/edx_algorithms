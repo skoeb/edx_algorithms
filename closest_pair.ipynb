{
 "cells": [
  {
   "cell_type": "code",
   "execution_count": 1,
   "metadata": {},
   "outputs": [],
   "source": [
    "#divide and conquer paradigm\n",
    "# - divide into smaller subproblems\n",
    "# - conquer subproblems recursively\n",
    "# - combine solutions of subporblems into one for the original problem\n",
    "\n",
    "\n",
    "# Px = points sorted by x\n",
    "# Py = points sorted by y\n",
    "# Recursively split into Q and R\n",
    "# Determine smallest distance for each Q and R\n",
    "# Get delta between smallest distance in Q and R\n",
    "# Create Sy as the location of the (split - delta) - (split + delta)\n",
    "# p and q are at most 7 positions apart in Sy"
   ]
  },
  {
   "cell_type": "code",
   "execution_count": 2,
   "metadata": {},
   "outputs": [],
   "source": [
    "import numpy as np\n",
    "import math"
   ]
  },
  {
   "cell_type": "code",
   "execution_count": 21,
   "metadata": {},
   "outputs": [],
   "source": [
    "x = np.random.rand(200).round(4)\n",
    "y = np.random.rand(200).round(4)\n",
    "pairs = list(zip(x, y))"
   ]
  },
  {
   "cell_type": "code",
   "execution_count": 22,
   "metadata": {},
   "outputs": [],
   "source": [
    "def euclidean_distance(p1, p2):\n",
    "    x1 = p1[0]; x2 = p2[0]; y1 = p1[1]; y2 = p2[1]\n",
    "    return np.sqrt((x1 - x2)**2 + (y1 - y2)**2)\n",
    "\n",
    "def brute_force(pairs):\n",
    "    shortest_dist = euclidean_distance(pairs[0], pairs[1])\n",
    "    closest_pair = (pairs[0], pairs[1])\n",
    "    for i in pairs:\n",
    "        for j in pairs:\n",
    "            if i != j:\n",
    "                dist = euclidean_distance(i, j)\n",
    "                if dist < shortest_dist:\n",
    "                    shortest_dist = dist\n",
    "                    closest_pair = (i, j)\n",
    "    return shortest_dist, closest_pair\n",
    "\n",
    "def merge_sort_pairs(array, position):\n",
    "    if len(array) == 1:\n",
    "        return array\n",
    "    else:\n",
    "        m = len(array) // 2\n",
    "        L = array[:m]\n",
    "        R = array[m:]\n",
    "\n",
    "        L = merge_sort_pairs(L, position=position)\n",
    "        R = merge_sort_pairs(R, position=position)\n",
    "        \n",
    "        i = 0\n",
    "        j = 0\n",
    "        merged = []\n",
    "        \n",
    "    while (i < len(L)) and (j < len(R)):\n",
    "        if L[i][position] <= R[j][position]:\n",
    "            merged.append(L[i])\n",
    "            i += 1\n",
    "        else:\n",
    "            merged.append(R[j])\n",
    "            j += 1\n",
    "    \n",
    "    merged += L[i:]\n",
    "    merged += R[j:]\n",
    "    \n",
    "    return merged\n",
    "\n",
    "def closest_pair_split(px, py):\n",
    "    \n",
    "    # --- base case ---\n",
    "    if len(px) <= 3:\n",
    "        return brute_force(px)\n",
    "    \n",
    "    # --- split ---\n",
    "    mx = len(px) // 2\n",
    "    qx = px[:mx]\n",
    "    rx = px[mx:]\n",
    "    median = px[mx]\n",
    "    \n",
    "    qy = []; ry = []\n",
    "    for p in py:\n",
    "        if p[0] < median[0]:\n",
    "            qy.append(p)\n",
    "        else:\n",
    "            ry.append(p)\n",
    "    \n",
    "    # --- find shortest dist on each side ---\n",
    "    q_shortest = closest_pair_split(qx, qy)\n",
    "    r_shortest = closest_pair_split(rx, ry)\n",
    "    if q_shortest < r_shortest:\n",
    "        shortest_dist, closest_pair = q_shortest\n",
    "    else:\n",
    "        shortest_dist, closest_pair = r_shortest\n",
    "    \n",
    "    # --- test if shortest was between split ---\n",
    "    x_bar = qx[-1][0] #last x on left\n",
    "    sy = [] #points along split\n",
    "    for p in py: #test each point sorted by y to see if it is less than delta away from split\n",
    "        if x_bar - shortest_dist < p[0]:\n",
    "            if p[0] < x_bar + shortest_dist:\n",
    "                sy.append(p)\n",
    "\n",
    "    for i in range(len(sy) - 1):\n",
    "        for j in range(i+1, min(i+7, len(sy))):\n",
    "            p1 = sy[i]\n",
    "            p2 = sy[j]\n",
    "            dist = euclidean_distance(p1, p2)\n",
    "            if dist < shortest_dist:\n",
    "                shortest_dist = dist\n",
    "                closest_pair = (p1, p2)\n",
    "    \n",
    "    return shortest_dist, closest_pair\n",
    "\n",
    "def initial_sort(pairs):\n",
    "    px = merge_sort_pairs(pairs, 0)\n",
    "    py = merge_sort_pairs(pairs, 1)\n",
    "    return px, py\n",
    "    \n",
    "\n",
    "def clever_closest_pair(pairs):\n",
    "    px, py = initial_sort(pairs)\n",
    "    return closest_pair_split(px, py)\n",
    "    "
   ]
  },
  {
   "cell_type": "code",
   "execution_count": 23,
   "metadata": {},
   "outputs": [
    {
     "data": {
      "text/plain": [
       "(0.007623647421018358, ((0.6012, 0.2028), (0.6006, 0.2104)))"
      ]
     },
     "execution_count": 23,
     "metadata": {},
     "output_type": "execute_result"
    }
   ],
   "source": [
    "brute_force(pairs)"
   ]
  },
  {
   "cell_type": "code",
   "execution_count": 24,
   "metadata": {},
   "outputs": [
    {
     "data": {
      "text/plain": [
       "(0.007623647421018358, ((0.6012, 0.2028), (0.6006, 0.2104)))"
      ]
     },
     "execution_count": 24,
     "metadata": {},
     "output_type": "execute_result"
    }
   ],
   "source": [
    "clever_closest_pair(pairs)"
   ]
  },
  {
   "cell_type": "code",
   "execution_count": 25,
   "metadata": {},
   "outputs": [
    {
     "name": "stdout",
     "output_type": "stream",
     "text": [
      "193 ms ± 4.4 ms per loop (mean ± std. dev. of 7 runs, 1 loop each)\n"
     ]
    }
   ],
   "source": [
    "%%timeit\n",
    "brute_force(pairs)"
   ]
  },
  {
   "cell_type": "code",
   "execution_count": 26,
   "metadata": {},
   "outputs": [
    {
     "name": "stdout",
     "output_type": "stream",
     "text": [
      "11.6 ms ± 136 µs per loop (mean ± std. dev. of 7 runs, 100 loops each)\n"
     ]
    }
   ],
   "source": [
    "%%timeit\n",
    "clever_closest_pair(pairs)"
   ]
  },
  {
   "cell_type": "code",
   "execution_count": null,
   "metadata": {},
   "outputs": [],
   "source": []
  }
 ],
 "metadata": {
  "kernelspec": {
   "display_name": "Python 3",
   "language": "python",
   "name": "python3"
  },
  "language_info": {
   "codemirror_mode": {
    "name": "ipython",
    "version": 3
   },
   "file_extension": ".py",
   "mimetype": "text/x-python",
   "name": "python",
   "nbconvert_exporter": "python",
   "pygments_lexer": "ipython3",
   "version": "3.7.6"
  }
 },
 "nbformat": 4,
 "nbformat_minor": 4
}
