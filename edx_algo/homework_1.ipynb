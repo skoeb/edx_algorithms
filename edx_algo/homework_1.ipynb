{
 "cells": [
  {
   "cell_type": "markdown",
   "metadata": {},
   "source": [
    "1. You are given as input an unsorted array of n distinct numbers, where n is a power of 2. Give an algorithm that identifies the second-largest number in the array, and that uses at most  𝑛+log2𝑛−2  comparisons."
   ]
  },
  {
   "cell_type": "markdown",
   "metadata": {},
   "source": [
    "2. You are a given a unimodal array of n distinct elements, meaning that its entries are in increasing order up until its maximum element, after which its elements are in decreasing order. Give an algorithm to compute the maximum element that runs in O(log n) time."
   ]
  },
  {
   "cell_type": "markdown",
   "metadata": {},
   "source": [
    "3. You are given a sorted (from smallest to largest) array A of n distinct integers which can be positive, negative, or zero. You want to decide whether or not there is an index i such that A[i] = i. Design the fastest algorithm that you can for solving this problem."
   ]
  },
  {
   "cell_type": "code",
   "execution_count": 2,
   "metadata": {},
   "outputs": [
    {
     "data": {
      "text/plain": [
       "999"
      ]
     },
     "execution_count": 2,
     "metadata": {},
     "output_type": "execute_result"
    }
   ],
   "source": [
    "import numpy as np\n",
    "\n",
    "def merge_sort(array):\n",
    "    if len(array) == 1:\n",
    "        return array\n",
    "    else:\n",
    "        m = len(array) // 2\n",
    "        L = array[:m]\n",
    "        R = array[m:]\n",
    "\n",
    "        L = merge_sort(L)\n",
    "        R = merge_sort(R)\n",
    "        \n",
    "        i = 0\n",
    "        j = 0\n",
    "        merged = []\n",
    "        \n",
    "    while (i < len(L)) and (j < len(R)):\n",
    "        if L[i] <= R[j]:\n",
    "            merged.append(L[i])\n",
    "            i += 1\n",
    "        else:\n",
    "            merged.append(R[j])\n",
    "            j += 1\n",
    "    \n",
    "    merged += L[i:]\n",
    "    merged += R[j:]\n",
    "    \n",
    "    return merged\n"
   ]
  },
  {
   "cell_type": "code",
   "execution_count": null,
   "metadata": {},
   "outputs": [],
   "source": [
    "def second_largest(array):\n",
    "    return merge_sort(array)[-1]\n",
    "\n",
    "t = range(0,1000)\n",
    "\n",
    "second_largest(t)\n"
   ]
  },
  {
   "cell_type": "code",
   "execution_count": 21,
   "metadata": {},
   "outputs": [
    {
     "data": {
      "text/plain": [
       "0.10034824798983333"
      ]
     },
     "execution_count": 21,
     "metadata": {},
     "output_type": "execute_result"
    }
   ],
   "source": [
    "from scipy import stats\n",
    "import matplotlib.pyplot as plt\n",
    "\n",
    "# --- kernel density estimation to fake unimodal dist ---\n",
    "x1 = np.array([-5, -3, 0, 0, 0, 3, 5], dtype=np.float)\n",
    "kde = stats.gaussian_kde(x1)\n",
    "unimodal = list(kde(np.linspace(-10,10)))\n",
    "\n",
    "def unimodal_maximum(array):\n",
    "    m = int(len(array) / 2)\n",
    "    array = array[0:m]\n",
    "    s = merge_sort(array)\n",
    "    return s[-1]\n",
    "\n",
    "unimodal_maximum(unimodal)"
   ]
  },
  {
   "cell_type": "code",
   "execution_count": 28,
   "metadata": {},
   "outputs": [
    {
     "data": {
      "text/plain": [
       "4"
      ]
     },
     "execution_count": 28,
     "metadata": {},
     "output_type": "execute_result"
    }
   ],
   "source": [
    "\n",
    "t = [-20, -10, 0, 1, 4]\n",
    "\n",
    "def index_match_value(array):\n",
    "    index = np.arange(0, len(array))\n",
    "    where = np.where(array == index)[0][0]\n",
    "    return where\n",
    "\n",
    "index_match_value(t)"
   ]
  },
  {
   "cell_type": "code",
   "execution_count": null,
   "metadata": {},
   "outputs": [],
   "source": []
  }
 ],
 "metadata": {
  "kernelspec": {
   "display_name": "Python 3",
   "language": "python",
   "name": "python3"
  },
  "language_info": {
   "codemirror_mode": {
    "name": "ipython",
    "version": 3
   },
   "file_extension": ".py",
   "mimetype": "text/x-python",
   "name": "python",
   "nbconvert_exporter": "python",
   "pygments_lexer": "ipython3",
   "version": "3.6.12"
  }
 },
 "nbformat": 4,
 "nbformat_minor": 4
}
