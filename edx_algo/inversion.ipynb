{
 "cells": [
  {
   "cell_type": "code",
   "execution_count": 1,
   "metadata": {},
   "outputs": [],
   "source": [
    "#divide array into two parts\n",
    "#recursively count inversions in first half\n",
    "#recursively count inversions in second half\n",
    "# recursively merge, while counting length of L when copies from R\n",
    "    #(split inversions)"
   ]
  },
  {
   "cell_type": "code",
   "execution_count": 2,
   "metadata": {},
   "outputs": [],
   "source": [
    "def count_inversions(array):\n",
    "    if len(array) == 1:\n",
    "        return 0, array\n",
    "    else:\n",
    "        m = len(array) // 2\n",
    "        L = array[:m]\n",
    "        R = array[m:]\n",
    "\n",
    "        lc, L = count_inversions(L)\n",
    "        rc, R = count_inversions(R)\n",
    "        \n",
    "        i = 0\n",
    "        j = 0\n",
    "        merged = []\n",
    "        count = lc + rc\n",
    "        \n",
    "    while (i < len(L)) and (j < len(R)):\n",
    "        if L[i] <= R[j]:\n",
    "            merged.append(L[i])\n",
    "            i += 1\n",
    "        else:\n",
    "            merged.append(R[j])\n",
    "            j += 1\n",
    "            count += (len(L) - i)\n",
    "                \n",
    "        merged += L[i:]\n",
    "        merged += R[j:]\n",
    "    \n",
    "    return count, array\n",
    "    "
   ]
  },
  {
   "cell_type": "code",
   "execution_count": 3,
   "metadata": {},
   "outputs": [
    {
     "data": {
      "text/plain": [
       "6"
      ]
     },
     "execution_count": 3,
     "metadata": {},
     "output_type": "execute_result"
    }
   ],
   "source": [
    "# simple test\n",
    "array = [4,3,2,1] #max inversions = (len(a) * len(a)-1)/2\n",
    "count, a = count_inversions(array)\n",
    "count"
   ]
  },
  {
   "cell_type": "code",
   "execution_count": 4,
   "metadata": {},
   "outputs": [
    {
     "data": {
      "text/plain": [
       "745492"
      ]
     },
     "execution_count": 4,
     "metadata": {},
     "output_type": "execute_result"
    }
   ],
   "source": [
    "import numpy as np\n",
    "array = list(np.random.rand(2000))\n",
    "count, a = count_inversions(array)\n",
    "count"
   ]
  },
  {
   "cell_type": "code",
   "execution_count": null,
   "metadata": {},
   "outputs": [],
   "source": []
  }
 ],
 "metadata": {
  "kernelspec": {
   "display_name": "Python 3",
   "language": "python",
   "name": "python3"
  },
  "language_info": {
   "codemirror_mode": {
    "name": "ipython",
    "version": 3
   },
   "file_extension": ".py",
   "mimetype": "text/x-python",
   "name": "python",
   "nbconvert_exporter": "python",
   "pygments_lexer": "ipython3",
   "version": "3.7.6"
  }
 },
 "nbformat": 4,
 "nbformat_minor": 4
}
