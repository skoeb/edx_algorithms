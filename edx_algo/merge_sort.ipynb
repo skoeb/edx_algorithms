{
 "cells": [
  {
   "cell_type": "code",
   "execution_count": 9,
   "metadata": {},
   "outputs": [],
   "source": [
    "def merge_sort(array):\n",
    "    if len(array) == 1:\n",
    "        return array\n",
    "    else:\n",
    "        m = len(array) // 2\n",
    "        L = array[:m]\n",
    "        R = array[m:]\n",
    "\n",
    "        L = merge_sort(L)\n",
    "        R = merge_sort(R)\n",
    "        \n",
    "        i = 0\n",
    "        j = 0\n",
    "        merged = []\n",
    "        \n",
    "    while (i < len(L)) and (j < len(R)):\n",
    "        if L[i] <= R[j]:\n",
    "            merged.append(L[i])\n",
    "            i += 1\n",
    "        else:\n",
    "            merged.append(R[j])\n",
    "            j += 1\n",
    "    \n",
    "    merged += L[i:]\n",
    "    merged += R[j:]\n",
    "    \n",
    "    return merged"
   ]
  },
  {
   "cell_type": "code",
   "execution_count": 10,
   "metadata": {},
   "outputs": [
    {
     "data": {
      "text/plain": [
       "[1, 2, 3, 4]"
      ]
     },
     "execution_count": 10,
     "metadata": {},
     "output_type": "execute_result"
    }
   ],
   "source": [
    "# simple test\n",
    "array = [4,3,2,1] #max inversions = (len(a) * len(a)-1)/2\n",
    "a = merge_sort(array)\n",
    "a"
   ]
  },
  {
   "cell_type": "code",
   "execution_count": 12,
   "metadata": {},
   "outputs": [
    {
     "name": "stdout",
     "output_type": "stream",
     "text": [
      "64.6 µs ± 732 ns per loop (mean ± std. dev. of 7 runs, 10000 loops each)\n"
     ]
    }
   ],
   "source": [
    "%%timeit\n",
    "# timing test \n",
    "import numpy as np\n",
    "array = list(np.random.rand(20))\n",
    "a = merge_sort(array)\n",
    "a"
   ]
  },
  {
   "cell_type": "code",
   "execution_count": null,
   "metadata": {},
   "outputs": [],
   "source": []
  }
 ],
 "metadata": {
  "kernelspec": {
   "display_name": "Python 3",
   "language": "python",
   "name": "python3"
  },
  "language_info": {
   "codemirror_mode": {
    "name": "ipython",
    "version": 3
   },
   "file_extension": ".py",
   "mimetype": "text/x-python",
   "name": "python",
   "nbconvert_exporter": "python",
   "pygments_lexer": "ipython3",
   "version": "3.6.12"
  }
 },
 "nbformat": 4,
 "nbformat_minor": 4
}
