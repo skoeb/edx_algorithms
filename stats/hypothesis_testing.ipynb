{
 "cells": [
  {
   "cell_type": "code",
   "execution_count": 45,
   "metadata": {},
   "outputs": [],
   "source": [
    "from scipy.stats import binom, bernoulli, norm\n",
    "import numpy as np\n",
    "import matplotlib.pyplot as plt"
   ]
  },
  {
   "cell_type": "code",
   "execution_count": 188,
   "metadata": {},
   "outputs": [
    {
     "name": "stdout",
     "output_type": "stream",
     "text": [
      "Binomial Method: (0.5020112513624978, 0.5216054246216176)\n",
      "Normal Method: (0.4386977045464704, 0.584918971437645)\n"
     ]
    },
    {
     "data": {
      "image/png": "[encoded data removed]",
      "text/plain": [
       "<Figure size 432x288 with 1 Axes>"
      ]
     },
     "metadata": {
      "needs_background": "light"
     },
     "output_type": "display_data"
    }
   ],
   "source": [
    "n = 100\n",
    "p = 0.5\n",
    "rv = binom(n, p)\n",
    "\n",
    "# x = np.arange(binom.ppf(0.01, n, p), binom.ppf(0.99, n, p))\n",
    "bi = binom(n, p)\n",
    "samples = bi.rvs(1000)\n",
    "b_mu = samples.mean()\n",
    "b_sig = samples.std()\n",
    "\n",
    "x = np.linspace(mu - 3*sig, mu + 3*sig, 100)\n",
    "y = norm.pdf(x, mu, sig) \n",
    "rvs = norm.rvs(mu, sig, 10000)\n",
    "mu = rvs.mean()\n",
    "sig = rvs.std()\n",
    "\n",
    "fig, ax = plt.subplots()\n",
    "ax.plot(x, y)\n",
    "ax.hist(rvs, density=True)\n",
    "ax.set_title(f\"mu={round(mu, 3)}, sig={round(sig, 3)}\")\n",
    "\n",
    "def binom_conf_interval(rvs, conf=0.95):\n",
    "    n = len(rvs)\n",
    "    phat = rvs.mean() / 100\n",
    "    constant = np.sqrt((phat*(1-phat)) / n)\n",
    "    probit = (1 - 0.95) * 0.5 # (1 - desired error) * 0.5\n",
    "    ci = np.abs(norm.ppf(probit))\n",
    "    lower = phat - (ci * constant)\n",
    "    upper = phat + (ci * constant)\n",
    "    return (lower, upper)\n",
    "\n",
    "def norm_conf_interval(rvs, conf=0.95):\n",
    "    n = len(rvs)\n",
    "    phat = rvs.mean() / 100\n",
    "    sig = rvs.std()\n",
    "    constant = sig / np.sqrt(n)\n",
    "    ci = np.abs(norm.ppf(conf))\n",
    "    lower = phat - (ci * constant)\n",
    "    upper = phat + (ci * constant)\n",
    "    return (lower, upper)\n",
    "\n",
    "print('Binomial Method:', binom_conf_interval(rvs))\n",
    "print('Normal Method:', norm_conf_interval(rvs))"
   ]
  },
  {
   "cell_type": "code",
   "execution_count": null,
   "metadata": {},
   "outputs": [],
   "source": []
  }
 ],
 "metadata": {
  "kernelspec": {
   "display_name": "Python 3",
   "language": "python",
   "name": "python3"
  },
  "language_info": {
   "codemirror_mode": {
    "name": "ipython",
    "version": 3
   },
   "file_extension": ".py",
   "mimetype": "text/x-python",
   "name": "python",
   "nbconvert_exporter": "python",
   "pygments_lexer": "ipython3",
   "version": "3.7.9"
  }
 },
 "nbformat": 4,
 "nbformat_minor": 4
}
